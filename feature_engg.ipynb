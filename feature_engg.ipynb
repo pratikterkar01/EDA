{
 "cells": [
  {
   "cell_type": "code",
   "execution_count": 2,
   "metadata": {},
   "outputs": [],
   "source": [
    "import pandas as pd\n",
    "import numpy as np"
   ]
  },
  {
   "cell_type": "code",
   "execution_count": 3,
   "metadata": {},
   "outputs": [],
   "source": [
    "df=pd.read_csv('finalTrain.csv')"
   ]
  },
  {
   "cell_type": "code",
   "execution_count": 4,
   "metadata": {},
   "outputs": [
    {
     "name": "stdout",
     "output_type": "stream",
     "text": [
      "<class 'pandas.core.frame.DataFrame'>\n",
      "RangeIndex: 45584 entries, 0 to 45583\n",
      "Data columns (total 20 columns):\n",
      " #   Column                       Non-Null Count  Dtype  \n",
      "---  ------                       --------------  -----  \n",
      " 0   ID                           45584 non-null  object \n",
      " 1   Delivery_person_ID           45584 non-null  object \n",
      " 2   Delivery_person_Age          43730 non-null  float64\n",
      " 3   Delivery_person_Ratings      43676 non-null  float64\n",
      " 4   Restaurant_latitude          45584 non-null  float64\n",
      " 5   Restaurant_longitude         45584 non-null  float64\n",
      " 6   Delivery_location_latitude   45584 non-null  float64\n",
      " 7   Delivery_location_longitude  45584 non-null  float64\n",
      " 8   Order_Date                   45584 non-null  object \n",
      " 9   Time_Orderd                  43853 non-null  object \n",
      " 10  Time_Order_picked            45584 non-null  object \n",
      " 11  Weather_conditions           44968 non-null  object \n",
      " 12  Road_traffic_density         44983 non-null  object \n",
      " 13  Vehicle_condition            45584 non-null  int64  \n",
      " 14  Type_of_order                45584 non-null  object \n",
      " 15  Type_of_vehicle              45584 non-null  object \n",
      " 16  multiple_deliveries          44591 non-null  float64\n",
      " 17  Festival                     45356 non-null  object \n",
      " 18  City                         44384 non-null  object \n",
      " 19  Time_taken (min)             45584 non-null  int64  \n",
      "dtypes: float64(7), int64(2), object(11)\n",
      "memory usage: 7.0+ MB\n"
     ]
    }
   ],
   "source": [
    "df.info()"
   ]
  },
  {
   "cell_type": "code",
   "execution_count": 5,
   "metadata": {},
   "outputs": [
    {
     "data": {
      "text/plain": [
       "(45584, 20)"
      ]
     },
     "execution_count": 5,
     "metadata": {},
     "output_type": "execute_result"
    }
   ],
   "source": [
    "df.shape"
   ]
  },
  {
   "cell_type": "code",
   "execution_count": 6,
   "metadata": {},
   "outputs": [],
   "source": [
    "numerical_col=df.columns[df.dtypes!='object']\n",
    "catagorical_col=df.columns[df.dtypes=='object']"
   ]
  },
  {
   "cell_type": "code",
   "execution_count": 5,
   "metadata": {},
   "outputs": [
    {
     "data": {
      "text/plain": [
       "Index(['Delivery_person_Age', 'Delivery_person_Ratings', 'Restaurant_latitude',\n",
       "       'Restaurant_longitude', 'Delivery_location_latitude',\n",
       "       'Delivery_location_longitude', 'Vehicle_condition',\n",
       "       'multiple_deliveries', 'Time_taken (min)'],\n",
       "      dtype='object')"
      ]
     },
     "execution_count": 5,
     "metadata": {},
     "output_type": "execute_result"
    }
   ],
   "source": [
    "numerical_col"
   ]
  },
  {
   "cell_type": "code",
   "execution_count": 6,
   "metadata": {},
   "outputs": [
    {
     "data": {
      "text/plain": [
       "Index(['ID', 'Delivery_person_ID', 'Order_Date', 'Time_Orderd',\n",
       "       'Time_Order_picked', 'Weather_conditions', 'Road_traffic_density',\n",
       "       'Type_of_order', 'Type_of_vehicle', 'Festival', 'City'],\n",
       "      dtype='object')"
      ]
     },
     "execution_count": 6,
     "metadata": {},
     "output_type": "execute_result"
    }
   ],
   "source": [
    "catagorical_col"
   ]
  },
  {
   "cell_type": "code",
   "execution_count": 4,
   "metadata": {},
   "outputs": [],
   "source": [
    "df1=df.copy()"
   ]
  },
  {
   "cell_type": "code",
   "execution_count": 30,
   "metadata": {},
   "outputs": [],
   "source": [
    "\n",
    "#df1['Time_Orderd_hour']=df['Time_Orderd'].str.split(':').str[0]"
   ]
  },
  {
   "cell_type": "code",
   "execution_count": 31,
   "metadata": {},
   "outputs": [],
   "source": [
    "#df1['Time_Orderd_min']=df['Time_Orderd'].str.split(':').str[1]"
   ]
  },
  {
   "cell_type": "code",
   "execution_count": 32,
   "metadata": {},
   "outputs": [],
   "source": [
    "#df1=df1.drop(labels=['Time_Orderd_hour','Time_Orderd_min'],axis=1)"
   ]
  },
  {
   "cell_type": "code",
   "execution_count": 19,
   "metadata": {},
   "outputs": [],
   "source": [
    "df1['Time_Orderd']=df1[\"Time_Orderd\"].str.replace(\":\",\".\")"
   ]
  },
  {
   "cell_type": "code",
   "execution_count": 20,
   "metadata": {},
   "outputs": [],
   "source": [
    "df1['Time_Orderd']=df1['Time_Orderd'].astype('float')"
   ]
  },
  {
   "cell_type": "code",
   "execution_count": 5,
   "metadata": {},
   "outputs": [],
   "source": [
    "df1['Time_Order_picked']=df1['Time_Order_picked'].str.replace(':','.')"
   ]
  },
  {
   "cell_type": "code",
   "execution_count": 6,
   "metadata": {},
   "outputs": [
    {
     "data": {
      "text/plain": [
       "0           22.10\n",
       "1           15.05\n",
       "2           17.40\n",
       "3           09.30\n",
       "4           20.05\n",
       "           ...   \n",
       "45579       11.45\n",
       "45580       20.10\n",
       "45581    24.05.00\n",
       "45582       13.40\n",
       "45583       17.15\n",
       "Name: Time_Order_picked, Length: 45584, dtype: object"
      ]
     },
     "execution_count": 6,
     "metadata": {},
     "output_type": "execute_result"
    }
   ],
   "source": [
    "df1['Time_Order_picked']"
   ]
  },
  {
   "cell_type": "code",
   "execution_count": 60,
   "metadata": {},
   "outputs": [
    {
     "data": {
      "text/plain": [
       "0        24.05.00\n",
       "1        24.05.00\n",
       "2        24.05.00\n",
       "3        24.05.00\n",
       "4        24.05.00\n",
       "           ...   \n",
       "45579    24.05.00\n",
       "45580    24.05.00\n",
       "45581    24.05.00\n",
       "45582    24.05.00\n",
       "45583    24.05.00\n",
       "Name: Time_Order_picked, Length: 45584, dtype: object"
      ]
     },
     "execution_count": 60,
     "metadata": {},
     "output_type": "execute_result"
    }
   ],
   "source": [
    "df1['Time_Order_picked']"
   ]
  },
  {
   "cell_type": "code",
   "execution_count": 7,
   "metadata": {},
   "outputs": [
    {
     "name": "stdout",
     "output_type": "stream",
     "text": [
      "24.0500\n"
     ]
    }
   ],
   "source": [
    "string = \"24.05.00\"\n",
    "second_dot_index = string.find('.', string.find('.') + 1)\n",
    "\n",
    "if second_dot_index != -1:\n",
    "    modified_string = string[:second_dot_index] + string[second_dot_index + 1:]\n",
    "    print(modified_string)\n",
    "else:\n",
    "    print(\"The second dot is not present in the string.\")"
   ]
  },
  {
   "cell_type": "code",
   "execution_count": 11,
   "metadata": {},
   "outputs": [],
   "source": [
    "for i in df1['Time_Order_picked']:\n",
    "    string = i\n",
    "    second_dot_index = string.find('.', string.find('.') + 1)\n",
    "\n",
    "    if second_dot_index != -1:\n",
    "        modified_string = string[:second_dot_index] + string[second_dot_index + 1:]\n",
    "        df1['Time_Order_picked']=modified_string\n",
    "    else:\n",
    "        pass\n"
   ]
  },
  {
   "cell_type": "code",
   "execution_count": 13,
   "metadata": {},
   "outputs": [],
   "source": [
    "df1['Time_Order_picked']=df1['Time_Order_picked'].astype('float32')"
   ]
  },
  {
   "cell_type": "code",
   "execution_count": 16,
   "metadata": {},
   "outputs": [
    {
     "data": {
      "text/plain": [
       "dtype('float32')"
      ]
     },
     "execution_count": 16,
     "metadata": {},
     "output_type": "execute_result"
    }
   ],
   "source": [
    "df1['Time_Order_picked'].dtype"
   ]
  },
  {
   "cell_type": "code",
   "execution_count": 8,
   "metadata": {},
   "outputs": [
    {
     "data": {
      "text/plain": [
       "0           22:10\n",
       "1           15:05\n",
       "2           17:40\n",
       "3           09:30\n",
       "4           20:05\n",
       "           ...   \n",
       "45579       11:45\n",
       "45580       20:10\n",
       "45581    24:05:00\n",
       "45582       13:40\n",
       "45583       17:15\n",
       "Name: Time_Order_picked, Length: 45584, dtype: object"
      ]
     },
     "execution_count": 8,
     "metadata": {},
     "output_type": "execute_result"
    }
   ],
   "source": [
    "df1['Time_Order_picked']"
   ]
  },
  {
   "cell_type": "code",
   "execution_count": 68,
   "metadata": {},
   "outputs": [
    {
     "name": "stdout",
     "output_type": "stream",
     "text": [
      "24\n",
      "05.00\n"
     ]
    }
   ],
   "source": []
  },
  {
   "cell_type": "code",
   "execution_count": 74,
   "metadata": {},
   "outputs": [
    {
     "data": {
      "text/plain": [
       "0           22.10\n",
       "1           15.05\n",
       "2           17.40\n",
       "3           09.30\n",
       "4           20.05\n",
       "           ...   \n",
       "45579       11.45\n",
       "45580       20.10\n",
       "45581    24.05.00\n",
       "45582       13.40\n",
       "45583       17.15\n",
       "Name: Time_Order_picked, Length: 45584, dtype: object"
      ]
     },
     "execution_count": 74,
     "metadata": {},
     "output_type": "execute_result"
    }
   ],
   "source": [
    "df1[\"Time_Order_picked\"]"
   ]
  },
  {
   "cell_type": "code",
   "execution_count": 77,
   "metadata": {},
   "outputs": [],
   "source": []
  },
  {
   "cell_type": "code",
   "execution_count": 78,
   "metadata": {},
   "outputs": [
    {
     "data": {
      "text/plain": [
       "0        10\n",
       "1        05\n",
       "2        40\n",
       "3        30\n",
       "4        05\n",
       "         ..\n",
       "45579    45\n",
       "45580    10\n",
       "45581    05\n",
       "45582    40\n",
       "45583    15\n",
       "Name: Time_Order_picked, Length: 45584, dtype: object"
      ]
     },
     "execution_count": 78,
     "metadata": {},
     "output_type": "execute_result"
    }
   ],
   "source": [
    "df1['Time_Order_picked']"
   ]
  },
  {
   "cell_type": "code",
   "execution_count": 36,
   "metadata": {},
   "outputs": [],
   "source": [
    "#removing the second point\n",
    "#df1['Time_Order_picked'].str[5].replace('.',\"\")"
   ]
  },
  {
   "cell_type": "code",
   "execution_count": null,
   "metadata": {},
   "outputs": [],
   "source": []
  },
  {
   "cell_type": "code",
   "execution_count": 37,
   "metadata": {},
   "outputs": [
    {
     "data": {
      "text/plain": [
       "0           22:10\n",
       "1           15:05\n",
       "2           17:40\n",
       "3           09:30\n",
       "4           20:05\n",
       "           ...   \n",
       "45579       11:45\n",
       "45580       20:10\n",
       "45581    24:05:00\n",
       "45582       13:40\n",
       "45583       17:15\n",
       "Name: Time_Order_picked, Length: 45584, dtype: object"
      ]
     },
     "execution_count": 37,
     "metadata": {},
     "output_type": "execute_result"
    }
   ],
   "source": [
    "df1['Time_Order_picked']"
   ]
  },
  {
   "cell_type": "code",
   "execution_count": 38,
   "metadata": {},
   "outputs": [
    {
     "data": {
      "text/plain": [
       "0           22:10\n",
       "1           15:05\n",
       "2           17:40\n",
       "3           09:30\n",
       "4           20:05\n",
       "           ...   \n",
       "45579       11:45\n",
       "45580       20:10\n",
       "45581    24:05:00\n",
       "45582       13:40\n",
       "45583       17:15\n",
       "Name: Time_Order_picked, Length: 45584, dtype: object"
      ]
     },
     "execution_count": 38,
     "metadata": {},
     "output_type": "execute_result"
    }
   ],
   "source": [
    "df1['Time_Order_picked']"
   ]
  },
  {
   "cell_type": "code",
   "execution_count": 39,
   "metadata": {},
   "outputs": [
    {
     "data": {
      "text/plain": [
       "RangeIndex(start=0, stop=45584, step=1)"
      ]
     },
     "execution_count": 39,
     "metadata": {},
     "output_type": "execute_result"
    }
   ],
   "source": [
    "df1['Time_Order_picked'].index"
   ]
  },
  {
   "cell_type": "code",
   "execution_count": 40,
   "metadata": {},
   "outputs": [
    {
     "data": {
      "text/plain": [
       "array(['22:10', '15:05', '17:40', '09:30', '20:05', '20:35', '15:10',\n",
       "       '20:40', '20:50', '21:30', '20:25', '22:45', '08:30', '19:45',\n",
       "       '12:30', '18:50', '23:30', '21:35', '23:45', '22:50', '22:40',\n",
       "       '23:35', '13:40', '21:45', '19:10', '14:25', '11:10', '09:55',\n",
       "       '08:55', '23:10', '17:30', '18:35', '19:50', '19:25',\n",
       "       '0.458333333', '19:15', '16:55', '11:40', '15:15', '22:55',\n",
       "       '22:25', '20:55', '23:05', '0.75', '0.958333333', '09:40', '20:20',\n",
       "       '22:35', '0.916666667', '23:55', '15:40', '10:30', '0.875',\n",
       "       '10:50', '16:05', '20:15', '12:15', '15:45', '22:15', '10:45',\n",
       "       '15:30', '24:05:00', '21:25', '12:45', '21:15', '18:20', '18:25',\n",
       "       '11:50', '12:50', '10:55', '21:40', '10:20', '17:55', '23:50',\n",
       "       '12:55', '24:10:00', '10:40', '0.375', '20:45', '0.833333333',\n",
       "       '23:15', '22:20', '21:05', '0.708333333', '24:15:00', '21:20',\n",
       "       '14:35', '10:25', '09:05', '16:50', '08:40', '23:40', '21:50',\n",
       "       '19:55', '0.625', '10:35', '09:25', '17:20', '19:30', '17:25',\n",
       "       '20:10', '1', '17:35', '0.791666667', '19:05', '13:20', '17:50',\n",
       "       '18:05', '19:20', '10:05', '09:10', '21:55', '19:40', '18:10',\n",
       "       '09:50', '15:50', '18:30', '18:15', '16:15', '11:15', '21:10',\n",
       "       '22:30', '15:20', '18:40', '23:20', '11:25', '13:55', '18:45',\n",
       "       '22:05', '11:55', '18:55', '09:45', '17:15', '12:05', '0.5',\n",
       "       '19:35', '08:25', '11:05', '15:35', '12:40', '12:25', '08:20',\n",
       "       '23:25', '16:10', '13:45', '08:15', '08:45', '20:30',\n",
       "       '0.541666667', '11:20', '08:50', '14:45', '17:45', '0.416666667',\n",
       "       '08:35', '12:10', '11:35', '14:30', '10:15', '17:05', '10:10',\n",
       "       '09:35', '11:30', '16:25', '09:15', '13:35', '15:55', '13:10',\n",
       "       '13:05', '11:45', '16:20', '16:30', '16:45', '09:20', '13:25',\n",
       "       '14:15', '14:05', '16:35', '16:40', '13:30', '14:40', '12:20',\n",
       "       '13:50', '17:10', '15:25', '14:20', '12:35', '0.583333333',\n",
       "       '14:10', '14:55', '13:15', '14:50', '0.666666667'], dtype=object)"
      ]
     },
     "execution_count": 40,
     "metadata": {},
     "output_type": "execute_result"
    }
   ],
   "source": [
    "df1['Time_Order_picked'].unique()"
   ]
  },
  {
   "cell_type": "code",
   "execution_count": 41,
   "metadata": {},
   "outputs": [],
   "source": [
    "df1=df1.drop(df1.index[45581])"
   ]
  },
  {
   "cell_type": "code",
   "execution_count": 42,
   "metadata": {},
   "outputs": [
    {
     "data": {
      "text/html": [
       "<div>\n",
       "<style scoped>\n",
       "    .dataframe tbody tr th:only-of-type {\n",
       "        vertical-align: middle;\n",
       "    }\n",
       "\n",
       "    .dataframe tbody tr th {\n",
       "        vertical-align: top;\n",
       "    }\n",
       "\n",
       "    .dataframe thead th {\n",
       "        text-align: right;\n",
       "    }\n",
       "</style>\n",
       "<table border=\"1\" class=\"dataframe\">\n",
       "  <thead>\n",
       "    <tr style=\"text-align: right;\">\n",
       "      <th></th>\n",
       "      <th>Delivery_person_ID</th>\n",
       "      <th>Delivery_person_Age</th>\n",
       "      <th>Delivery_person_Ratings</th>\n",
       "      <th>Restaurant_latitude</th>\n",
       "      <th>Restaurant_longitude</th>\n",
       "      <th>Delivery_location_latitude</th>\n",
       "      <th>Delivery_location_longitude</th>\n",
       "      <th>Order_Date</th>\n",
       "      <th>Time_Orderd</th>\n",
       "      <th>Time_Order_picked</th>\n",
       "      <th>Weather_conditions</th>\n",
       "      <th>Road_traffic_density</th>\n",
       "      <th>Vehicle_condition</th>\n",
       "      <th>Type_of_order</th>\n",
       "      <th>Type_of_vehicle</th>\n",
       "      <th>multiple_deliveries</th>\n",
       "      <th>Festival</th>\n",
       "      <th>City</th>\n",
       "      <th>Time_taken (min)</th>\n",
       "    </tr>\n",
       "  </thead>\n",
       "  <tbody>\n",
       "    <tr>\n",
       "      <th>0</th>\n",
       "      <td>DEHRES17DEL01</td>\n",
       "      <td>36.0</td>\n",
       "      <td>4.2</td>\n",
       "      <td>30.327968</td>\n",
       "      <td>78.046106</td>\n",
       "      <td>30.397968</td>\n",
       "      <td>78.116106</td>\n",
       "      <td>12-02-2022</td>\n",
       "      <td>21.55</td>\n",
       "      <td>22:10</td>\n",
       "      <td>Fog</td>\n",
       "      <td>Jam</td>\n",
       "      <td>2</td>\n",
       "      <td>Snack</td>\n",
       "      <td>motorcycle</td>\n",
       "      <td>3.0</td>\n",
       "      <td>No</td>\n",
       "      <td>Metropolitian</td>\n",
       "      <td>46</td>\n",
       "    </tr>\n",
       "    <tr>\n",
       "      <th>1</th>\n",
       "      <td>KOCRES16DEL01</td>\n",
       "      <td>21.0</td>\n",
       "      <td>4.7</td>\n",
       "      <td>10.003064</td>\n",
       "      <td>76.307589</td>\n",
       "      <td>10.043064</td>\n",
       "      <td>76.347589</td>\n",
       "      <td>13-02-2022</td>\n",
       "      <td>14.55</td>\n",
       "      <td>15:05</td>\n",
       "      <td>Stormy</td>\n",
       "      <td>High</td>\n",
       "      <td>1</td>\n",
       "      <td>Meal</td>\n",
       "      <td>motorcycle</td>\n",
       "      <td>1.0</td>\n",
       "      <td>No</td>\n",
       "      <td>Metropolitian</td>\n",
       "      <td>23</td>\n",
       "    </tr>\n",
       "    <tr>\n",
       "      <th>2</th>\n",
       "      <td>PUNERES13DEL03</td>\n",
       "      <td>23.0</td>\n",
       "      <td>4.7</td>\n",
       "      <td>18.562450</td>\n",
       "      <td>73.916619</td>\n",
       "      <td>18.652450</td>\n",
       "      <td>74.006619</td>\n",
       "      <td>04-03-2022</td>\n",
       "      <td>17.30</td>\n",
       "      <td>17:40</td>\n",
       "      <td>Sandstorms</td>\n",
       "      <td>Medium</td>\n",
       "      <td>1</td>\n",
       "      <td>Drinks</td>\n",
       "      <td>scooter</td>\n",
       "      <td>1.0</td>\n",
       "      <td>No</td>\n",
       "      <td>Metropolitian</td>\n",
       "      <td>21</td>\n",
       "    </tr>\n",
       "    <tr>\n",
       "      <th>3</th>\n",
       "      <td>LUDHRES15DEL02</td>\n",
       "      <td>34.0</td>\n",
       "      <td>4.3</td>\n",
       "      <td>30.899584</td>\n",
       "      <td>75.809346</td>\n",
       "      <td>30.919584</td>\n",
       "      <td>75.829346</td>\n",
       "      <td>13-02-2022</td>\n",
       "      <td>9.20</td>\n",
       "      <td>09:30</td>\n",
       "      <td>Sandstorms</td>\n",
       "      <td>Low</td>\n",
       "      <td>0</td>\n",
       "      <td>Buffet</td>\n",
       "      <td>motorcycle</td>\n",
       "      <td>0.0</td>\n",
       "      <td>No</td>\n",
       "      <td>Metropolitian</td>\n",
       "      <td>20</td>\n",
       "    </tr>\n",
       "    <tr>\n",
       "      <th>4</th>\n",
       "      <td>KNPRES14DEL02</td>\n",
       "      <td>24.0</td>\n",
       "      <td>4.7</td>\n",
       "      <td>26.463504</td>\n",
       "      <td>80.372929</td>\n",
       "      <td>26.593504</td>\n",
       "      <td>80.502929</td>\n",
       "      <td>14-02-2022</td>\n",
       "      <td>19.50</td>\n",
       "      <td>20:05</td>\n",
       "      <td>Fog</td>\n",
       "      <td>Jam</td>\n",
       "      <td>1</td>\n",
       "      <td>Snack</td>\n",
       "      <td>scooter</td>\n",
       "      <td>1.0</td>\n",
       "      <td>No</td>\n",
       "      <td>Metropolitian</td>\n",
       "      <td>41</td>\n",
       "    </tr>\n",
       "    <tr>\n",
       "      <th>...</th>\n",
       "      <td>...</td>\n",
       "      <td>...</td>\n",
       "      <td>...</td>\n",
       "      <td>...</td>\n",
       "      <td>...</td>\n",
       "      <td>...</td>\n",
       "      <td>...</td>\n",
       "      <td>...</td>\n",
       "      <td>...</td>\n",
       "      <td>...</td>\n",
       "      <td>...</td>\n",
       "      <td>...</td>\n",
       "      <td>...</td>\n",
       "      <td>...</td>\n",
       "      <td>...</td>\n",
       "      <td>...</td>\n",
       "      <td>...</td>\n",
       "      <td>...</td>\n",
       "      <td>...</td>\n",
       "    </tr>\n",
       "    <tr>\n",
       "      <th>45578</th>\n",
       "      <td>RANCHIRES16DEL01</td>\n",
       "      <td>35.0</td>\n",
       "      <td>4.2</td>\n",
       "      <td>23.371292</td>\n",
       "      <td>85.327872</td>\n",
       "      <td>23.481292</td>\n",
       "      <td>85.437872</td>\n",
       "      <td>08-03-2022</td>\n",
       "      <td>21.45</td>\n",
       "      <td>21:55</td>\n",
       "      <td>Windy</td>\n",
       "      <td>Jam</td>\n",
       "      <td>2</td>\n",
       "      <td>Drinks</td>\n",
       "      <td>motorcycle</td>\n",
       "      <td>1.0</td>\n",
       "      <td>No</td>\n",
       "      <td>Metropolitian</td>\n",
       "      <td>33</td>\n",
       "    </tr>\n",
       "    <tr>\n",
       "      <th>45579</th>\n",
       "      <td>JAPRES04DEL01</td>\n",
       "      <td>30.0</td>\n",
       "      <td>4.8</td>\n",
       "      <td>26.902328</td>\n",
       "      <td>75.794257</td>\n",
       "      <td>26.912328</td>\n",
       "      <td>75.804257</td>\n",
       "      <td>24-03-2022</td>\n",
       "      <td>11.35</td>\n",
       "      <td>11:45</td>\n",
       "      <td>Windy</td>\n",
       "      <td>High</td>\n",
       "      <td>1</td>\n",
       "      <td>Meal</td>\n",
       "      <td>motorcycle</td>\n",
       "      <td>0.0</td>\n",
       "      <td>No</td>\n",
       "      <td>Metropolitian</td>\n",
       "      <td>32</td>\n",
       "    </tr>\n",
       "    <tr>\n",
       "      <th>45580</th>\n",
       "      <td>AGRRES16DEL01</td>\n",
       "      <td>21.0</td>\n",
       "      <td>4.6</td>\n",
       "      <td>0.000000</td>\n",
       "      <td>0.000000</td>\n",
       "      <td>0.070000</td>\n",
       "      <td>0.070000</td>\n",
       "      <td>16-02-2022</td>\n",
       "      <td>19.55</td>\n",
       "      <td>20:10</td>\n",
       "      <td>Windy</td>\n",
       "      <td>Jam</td>\n",
       "      <td>0</td>\n",
       "      <td>Buffet</td>\n",
       "      <td>motorcycle</td>\n",
       "      <td>1.0</td>\n",
       "      <td>No</td>\n",
       "      <td>Metropolitian</td>\n",
       "      <td>36</td>\n",
       "    </tr>\n",
       "    <tr>\n",
       "      <th>45582</th>\n",
       "      <td>COIMBRES11DEL01</td>\n",
       "      <td>20.0</td>\n",
       "      <td>4.7</td>\n",
       "      <td>11.001753</td>\n",
       "      <td>76.986241</td>\n",
       "      <td>11.041753</td>\n",
       "      <td>77.026241</td>\n",
       "      <td>07-03-2022</td>\n",
       "      <td>13.35</td>\n",
       "      <td>13:40</td>\n",
       "      <td>Cloudy</td>\n",
       "      <td>High</td>\n",
       "      <td>0</td>\n",
       "      <td>Snack</td>\n",
       "      <td>motorcycle</td>\n",
       "      <td>1.0</td>\n",
       "      <td>No</td>\n",
       "      <td>Metropolitian</td>\n",
       "      <td>26</td>\n",
       "    </tr>\n",
       "    <tr>\n",
       "      <th>45583</th>\n",
       "      <td>RANCHIRES09DEL02</td>\n",
       "      <td>23.0</td>\n",
       "      <td>4.9</td>\n",
       "      <td>23.351058</td>\n",
       "      <td>85.325731</td>\n",
       "      <td>23.431058</td>\n",
       "      <td>85.405731</td>\n",
       "      <td>02-03-2022</td>\n",
       "      <td>17.10</td>\n",
       "      <td>17:15</td>\n",
       "      <td>Fog</td>\n",
       "      <td>Medium</td>\n",
       "      <td>2</td>\n",
       "      <td>Snack</td>\n",
       "      <td>scooter</td>\n",
       "      <td>1.0</td>\n",
       "      <td>No</td>\n",
       "      <td>Metropolitian</td>\n",
       "      <td>36</td>\n",
       "    </tr>\n",
       "  </tbody>\n",
       "</table>\n",
       "<p>45583 rows × 19 columns</p>\n",
       "</div>"
      ],
      "text/plain": [
       "      Delivery_person_ID  Delivery_person_Age  Delivery_person_Ratings  \\\n",
       "0          DEHRES17DEL01                 36.0                      4.2   \n",
       "1          KOCRES16DEL01                 21.0                      4.7   \n",
       "2         PUNERES13DEL03                 23.0                      4.7   \n",
       "3         LUDHRES15DEL02                 34.0                      4.3   \n",
       "4          KNPRES14DEL02                 24.0                      4.7   \n",
       "...                  ...                  ...                      ...   \n",
       "45578   RANCHIRES16DEL01                 35.0                      4.2   \n",
       "45579      JAPRES04DEL01                 30.0                      4.8   \n",
       "45580      AGRRES16DEL01                 21.0                      4.6   \n",
       "45582    COIMBRES11DEL01                 20.0                      4.7   \n",
       "45583   RANCHIRES09DEL02                 23.0                      4.9   \n",
       "\n",
       "       Restaurant_latitude  Restaurant_longitude  Delivery_location_latitude  \\\n",
       "0                30.327968             78.046106                   30.397968   \n",
       "1                10.003064             76.307589                   10.043064   \n",
       "2                18.562450             73.916619                   18.652450   \n",
       "3                30.899584             75.809346                   30.919584   \n",
       "4                26.463504             80.372929                   26.593504   \n",
       "...                    ...                   ...                         ...   \n",
       "45578            23.371292             85.327872                   23.481292   \n",
       "45579            26.902328             75.794257                   26.912328   \n",
       "45580             0.000000              0.000000                    0.070000   \n",
       "45582            11.001753             76.986241                   11.041753   \n",
       "45583            23.351058             85.325731                   23.431058   \n",
       "\n",
       "       Delivery_location_longitude  Order_Date  Time_Orderd Time_Order_picked  \\\n",
       "0                        78.116106  12-02-2022        21.55             22:10   \n",
       "1                        76.347589  13-02-2022        14.55             15:05   \n",
       "2                        74.006619  04-03-2022        17.30             17:40   \n",
       "3                        75.829346  13-02-2022         9.20             09:30   \n",
       "4                        80.502929  14-02-2022        19.50             20:05   \n",
       "...                            ...         ...          ...               ...   \n",
       "45578                    85.437872  08-03-2022        21.45             21:55   \n",
       "45579                    75.804257  24-03-2022        11.35             11:45   \n",
       "45580                     0.070000  16-02-2022        19.55             20:10   \n",
       "45582                    77.026241  07-03-2022        13.35             13:40   \n",
       "45583                    85.405731  02-03-2022        17.10             17:15   \n",
       "\n",
       "      Weather_conditions Road_traffic_density  Vehicle_condition  \\\n",
       "0                    Fog                  Jam                  2   \n",
       "1                 Stormy                 High                  1   \n",
       "2             Sandstorms               Medium                  1   \n",
       "3             Sandstorms                  Low                  0   \n",
       "4                    Fog                  Jam                  1   \n",
       "...                  ...                  ...                ...   \n",
       "45578              Windy                  Jam                  2   \n",
       "45579              Windy                 High                  1   \n",
       "45580              Windy                  Jam                  0   \n",
       "45582             Cloudy                 High                  0   \n",
       "45583                Fog               Medium                  2   \n",
       "\n",
       "      Type_of_order Type_of_vehicle  multiple_deliveries Festival  \\\n",
       "0             Snack      motorcycle                  3.0       No   \n",
       "1              Meal      motorcycle                  1.0       No   \n",
       "2            Drinks         scooter                  1.0       No   \n",
       "3            Buffet      motorcycle                  0.0       No   \n",
       "4             Snack         scooter                  1.0       No   \n",
       "...             ...             ...                  ...      ...   \n",
       "45578        Drinks      motorcycle                  1.0       No   \n",
       "45579          Meal      motorcycle                  0.0       No   \n",
       "45580        Buffet      motorcycle                  1.0       No   \n",
       "45582         Snack      motorcycle                  1.0       No   \n",
       "45583         Snack         scooter                  1.0       No   \n",
       "\n",
       "                City  Time_taken (min)  \n",
       "0      Metropolitian                46  \n",
       "1      Metropolitian                23  \n",
       "2      Metropolitian                21  \n",
       "3      Metropolitian                20  \n",
       "4      Metropolitian                41  \n",
       "...              ...               ...  \n",
       "45578  Metropolitian                33  \n",
       "45579  Metropolitian                32  \n",
       "45580  Metropolitian                36  \n",
       "45582  Metropolitian                26  \n",
       "45583  Metropolitian                36  \n",
       "\n",
       "[45583 rows x 19 columns]"
      ]
     },
     "execution_count": 42,
     "metadata": {},
     "output_type": "execute_result"
    }
   ],
   "source": [
    "df1.drop(labels=['ID'],axis=1)"
   ]
  },
  {
   "cell_type": "code",
   "execution_count": 43,
   "metadata": {},
   "outputs": [
    {
     "data": {
      "text/plain": [
       "0        21\n",
       "1        14\n",
       "2        17\n",
       "3        09\n",
       "4        19\n",
       "         ..\n",
       "45579    11\n",
       "45580    19\n",
       "45581    23\n",
       "45582    13\n",
       "45583    17\n",
       "Name: Time_Orderd, Length: 45584, dtype: object"
      ]
     },
     "execution_count": 43,
     "metadata": {},
     "output_type": "execute_result"
    }
   ],
   "source": [
    "df['Time_Orderd'].str.split(':').str[0]"
   ]
  },
  {
   "cell_type": "code",
   "execution_count": 44,
   "metadata": {},
   "outputs": [
    {
     "name": "stdout",
     "output_type": "stream",
     "text": [
      "<class 'pandas.core.frame.DataFrame'>\n",
      "Int64Index: 45583 entries, 0 to 45583\n",
      "Data columns (total 20 columns):\n",
      " #   Column                       Non-Null Count  Dtype  \n",
      "---  ------                       --------------  -----  \n",
      " 0   ID                           45583 non-null  object \n",
      " 1   Delivery_person_ID           45583 non-null  object \n",
      " 2   Delivery_person_Age          43729 non-null  float64\n",
      " 3   Delivery_person_Ratings      43675 non-null  float64\n",
      " 4   Restaurant_latitude          45583 non-null  float64\n",
      " 5   Restaurant_longitude         45583 non-null  float64\n",
      " 6   Delivery_location_latitude   45583 non-null  float64\n",
      " 7   Delivery_location_longitude  45583 non-null  float64\n",
      " 8   Order_Date                   45583 non-null  object \n",
      " 9   Time_Orderd                  43852 non-null  float64\n",
      " 10  Time_Order_picked            45583 non-null  object \n",
      " 11  Weather_conditions           44967 non-null  object \n",
      " 12  Road_traffic_density         44982 non-null  object \n",
      " 13  Vehicle_condition            45583 non-null  int64  \n",
      " 14  Type_of_order                45583 non-null  object \n",
      " 15  Type_of_vehicle              45583 non-null  object \n",
      " 16  multiple_deliveries          44590 non-null  float64\n",
      " 17  Festival                     45355 non-null  object \n",
      " 18  City                         44383 non-null  object \n",
      " 19  Time_taken (min)             45583 non-null  int64  \n",
      "dtypes: float64(8), int64(2), object(10)\n",
      "memory usage: 7.3+ MB\n"
     ]
    }
   ],
   "source": [
    "df1.info()"
   ]
  }
 ],
 "metadata": {
  "kernelspec": {
   "display_name": "base",
   "language": "python",
   "name": "python3"
  },
  "language_info": {
   "codemirror_mode": {
    "name": "ipython",
    "version": 3
   },
   "file_extension": ".py",
   "mimetype": "text/x-python",
   "name": "python",
   "nbconvert_exporter": "python",
   "pygments_lexer": "ipython3",
   "version": "3.10.9"
  },
  "orig_nbformat": 4
 },
 "nbformat": 4,
 "nbformat_minor": 2
}
